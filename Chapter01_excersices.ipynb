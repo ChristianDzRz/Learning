{
 "cells": [
  {
   "cell_type": "code",
   "execution_count": 2,
   "metadata": {},
   "outputs": [
    {
     "data": {
      "text/plain": [
       "True"
      ]
     },
     "execution_count": 2,
     "metadata": {},
     "output_type": "execute_result"
    }
   ],
   "source": [
    "def is_multiple(n, m):\n",
    "    return ( n%m == 0 )\n",
    "\n",
    "is_multiple(12,4)"
   ]
  },
  {
   "cell_type": "code",
   "execution_count": 6,
   "metadata": {},
   "outputs": [
    {
     "data": {
      "text/plain": [
       "True"
      ]
     },
     "execution_count": 6,
     "metadata": {},
     "output_type": "execute_result"
    }
   ],
   "source": [
    "def is_even(k):\n",
    "    table_of_two = (\"0\",\"2\",\"4\",\"8\")\n",
    "    last_digit = str(k)[-1]\n",
    "    return last_digit in table_of_two\n",
    "\n",
    "is_even(22)\n",
    "    "
   ]
  },
  {
   "cell_type": "code",
   "execution_count": 15,
   "metadata": {},
   "outputs": [
    {
     "name": "stdout",
     "output_type": "stream",
     "text": [
      "[2, 4, 6, 8, 10, 3, 5]\n"
     ]
    },
    {
     "data": {
      "text/plain": [
       "(2, 10)"
      ]
     },
     "execution_count": 15,
     "metadata": {},
     "output_type": "execute_result"
    }
   ],
   "source": [
    "def minmax(data):\n",
    "    print(list(data))\n",
    "    if len(list(data)) == 1:\n",
    "        return data, data\n",
    "    else:    \n",
    "        sorted_data = sorted(data)\n",
    "        return sorted_data[0], sorted_data[-1]\n",
    "\n",
    "minmax((2,  4, 6, 8, 10, 3, 5))"
   ]
  },
  {
   "cell_type": "code",
   "execution_count": 16,
   "metadata": {},
   "outputs": [
    {
     "data": {
      "text/plain": [
       "14"
      ]
     },
     "execution_count": 16,
     "metadata": {},
     "output_type": "execute_result"
    }
   ],
   "source": [
    "def sum_squares(int):\n",
    "    result =0\n",
    "    for i in range(int):\n",
    "        result += i**2\n",
    "    return result\n",
    "\n",
    "sum_squares(4)\n"
   ]
  },
  {
   "cell_type": "code",
   "execution_count": 2,
   "metadata": {},
   "outputs": [
    {
     "name": "stdout",
     "output_type": "stream",
     "text": [
      "30\n"
     ]
    }
   ],
   "source": [
    "n = 5\n",
    "\n",
    "list_values = [i**2 for i in range(n)]\n",
    "sum_of_squares = sum([i**2 for i in range(n)])\n",
    "print(sum_of_squares)"
   ]
  },
  {
   "cell_type": "code",
   "execution_count": 4,
   "metadata": {},
   "outputs": [
    {
     "name": "stdout",
     "output_type": "stream",
     "text": [
      "10\n"
     ]
    }
   ],
   "source": [
    "def sum_odd_numbers(n):\n",
    "    result = 0\n",
    "    for i in range(1,n,2):\n",
    "         result += i**2\n",
    "    return result\n",
    "print(sum_odd_numbers(5))"
   ]
  },
  {
   "cell_type": "code",
   "execution_count": 5,
   "metadata": {},
   "outputs": [
    {
     "name": "stdout",
     "output_type": "stream",
     "text": [
      "10\n"
     ]
    }
   ],
   "source": [
    "sum_of_odd_squares = sum([i**2 for i in range(1,n,2)])\n",
    "print(sum_of_odd_squares)"
   ]
  },
  {
   "cell_type": "code",
   "execution_count": 8,
   "metadata": {},
   "outputs": [
    {
     "name": "stdout",
     "output_type": "stream",
     "text": [
      "[8, 6, 4, 2, 0, -2, -4, -6, -8]\n"
     ]
    }
   ],
   "source": [
    "print( list(range(8,-10, -2)))"
   ]
  },
  {
   "cell_type": "code",
   "execution_count": 12,
   "metadata": {},
   "outputs": [
    {
     "name": "stdout",
     "output_type": "stream",
     "text": [
      "[1, 2, 4, 8, 16, 32, 64, 128, 256]\n"
     ]
    }
   ],
   "source": [
    "print([2**x for x in range(9)])"
   ]
  },
  {
   "cell_type": "code",
   "execution_count": 24,
   "metadata": {},
   "outputs": [
    {
     "name": "stdout",
     "output_type": "stream",
     "text": [
      "1\n"
     ]
    }
   ],
   "source": [
    "import random\n",
    "def choice_fake(data):\n",
    "    index = random.randrange(len(data))\n",
    "    return data[index]\n",
    "data = [1, 3, 4, 5, 6]\n",
    "print(choice_fake(data))\n"
   ]
  },
  {
   "cell_type": "code",
   "execution_count": 32,
   "metadata": {},
   "outputs": [
    {
     "name": "stdout",
     "output_type": "stream",
     "text": [
      "[4, 3, 2, 1]\n"
     ]
    }
   ],
   "source": [
    "def reverse_fake(data):\n",
    "    reversed_array = []\n",
    "    for i in range(len(data)):\n",
    "        reversed_array.append(data[-1-i])\n",
    "    return reversed_array\n",
    "\n",
    "print(reverse_fake([1,2,3,4]))"
   ]
  },
  {
   "cell_type": "code",
   "execution_count": 33,
   "metadata": {},
   "outputs": [
    {
     "name": "stdout",
     "output_type": "stream",
     "text": [
      "[55, 70, 55, 50, 20, 10, 85, 80, 60, 80, 65, 70, 25, 70, 30, 5, 75, 35, 25, 25, 50, 65, 10]\n"
     ]
    }
   ],
   "source": [
    "sample = range(5,100,5)\n",
    "samples = []\n",
    "for i in range(5,100, 5):\n",
    "    samples.append(random.randrange(0,365))\n",
    "print(samples)"
   ]
  },
  {
   "cell_type": "code",
   "execution_count": 12,
   "metadata": {},
   "outputs": [],
   "source": [
    "def count_words(words):\n",
    "    unique_words = {}\n",
    "    for word in words:\n",
    "        unique_words.update({word:words.count(word)})\n",
    "    return unique_words"
   ]
  },
  {
   "cell_type": "code",
   "execution_count": 13,
   "metadata": {},
   "outputs": [
    {
     "name": "stdout",
     "output_type": "stream",
     "text": [
      "{'dog': 3, 'cat': 2, 'donkey': 1, 'monekey': 1}\n"
     ]
    }
   ],
   "source": [
    "list_of_words = ['dog', 'cat', 'donkey', 'cat', 'dog', 'dog', 'monekey']\n",
    "print(count_words(list_of_words))"
   ]
  },
  {
   "cell_type": "code",
   "execution_count": 15,
   "metadata": {},
   "outputs": [
    {
     "data": {
      "text/plain": [
       "{'__name__': '__main__',\n",
       " '__doc__': 'Automatically created module for IPython interactive environment',\n",
       " '__package__': None,\n",
       " '__loader__': None,\n",
       " '__spec__': None,\n",
       " '__builtin__': <module 'builtins' (built-in)>,\n",
       " '__builtins__': <module 'builtins' (built-in)>,\n",
       " '_ih': ['',\n",
       "  'def count_words(words):\\n    unique_words = {}\\n    for word in words:\\n        unique_words[word] += 1',\n",
       "  \"list_of_words = ['dog', 'cat', 'donkey', 'cat', 'dog', 'dog', 'monekey']\\nprint(count_words(list_of_words))\",\n",
       "  'def count_words(words):\\n    unique_words = {}\\n    for word in words:\\n        unique_words[word] = 1\\n    else:\\n        unique_words[word] += 1\\n    return unique_words',\n",
       "  \"list_of_words = ['dog', 'cat', 'donkey', 'cat', 'dog', 'dog', 'monekey']\\nprint(count_words(list_of_words))\",\n",
       "  'def count_words(words):\\n    unique_words = {}\\n    for word in words:\\n        if word in unique_words.keys:\\n            unique_words[word] = 1\\n            \\n        else:\\n            unique_words[word] += 1\\n    return unique_words',\n",
       "  \"list_of_words = ['dog', 'cat', 'donkey', 'cat', 'dog', 'dog', 'monekey']\\nprint(count_words(list_of_words))\",\n",
       "  'def count_words(words):\\n    unique_words = {}\\n    for word in words:\\n        if word in unique_words.keys():\\n            unique_words[word] = 1\\n\\n        else:\\n            unique_words[word] += 1\\n    return unique_words',\n",
       "  \"list_of_words = ['dog', 'cat', 'donkey', 'cat', 'dog', 'dog', 'monekey']\\nprint(count_words(list_of_words))\",\n",
       "  'def count_words(words):\\n    unique_words = {}\\n    for word in words:\\n        if word in unique_words.keys():\\n            unique_words[word] = 1\\n\\n        else:\\n            \\n            unique_words[word] = unique_words[word].value + 1\\n    return unique_words',\n",
       "  \"list_of_words = ['dog', 'cat', 'donkey', 'cat', 'dog', 'dog', 'monekey']\\nprint(count_words(list_of_words))\",\n",
       "  'def count_words(words):\\n    unique_words = {}\\n    for word in words:\\n        unique_words.update(word:count(x))\\n    return unique_words',\n",
       "  'def count_words(words):\\n    unique_words = {}\\n    for word in words:\\n        unique_words.update({word:words.count(word)})\\n    return unique_words',\n",
       "  \"list_of_words = ['dog', 'cat', 'donkey', 'cat', 'dog', 'dog', 'monekey']\\nprint(count_words(list_of_words))\",\n",
       "  'dir()',\n",
       "  'vars()'],\n",
       " '_oh': {14: ['In',\n",
       "   'Out',\n",
       "   '_',\n",
       "   '__',\n",
       "   '___',\n",
       "   '__builtin__',\n",
       "   '__builtins__',\n",
       "   '__doc__',\n",
       "   '__loader__',\n",
       "   '__name__',\n",
       "   '__package__',\n",
       "   '__spec__',\n",
       "   '__vsc_ipynb_file__',\n",
       "   '_dh',\n",
       "   '_i',\n",
       "   '_i1',\n",
       "   '_i10',\n",
       "   '_i11',\n",
       "   '_i12',\n",
       "   '_i13',\n",
       "   '_i14',\n",
       "   '_i2',\n",
       "   '_i3',\n",
       "   '_i4',\n",
       "   '_i5',\n",
       "   '_i6',\n",
       "   '_i7',\n",
       "   '_i8',\n",
       "   '_i9',\n",
       "   '_ih',\n",
       "   '_ii',\n",
       "   '_iii',\n",
       "   '_oh',\n",
       "   'count_words',\n",
       "   'exit',\n",
       "   'get_ipython',\n",
       "   'list_of_words',\n",
       "   'open',\n",
       "   'quit']},\n",
       " '_dh': [PosixPath('/home/christiandzrz/Documents/learning'),\n",
       "  PosixPath('/home/christiandzrz/Documents/learning')],\n",
       " 'In': ['',\n",
       "  'def count_words(words):\\n    unique_words = {}\\n    for word in words:\\n        unique_words[word] += 1',\n",
       "  \"list_of_words = ['dog', 'cat', 'donkey', 'cat', 'dog', 'dog', 'monekey']\\nprint(count_words(list_of_words))\",\n",
       "  'def count_words(words):\\n    unique_words = {}\\n    for word in words:\\n        unique_words[word] = 1\\n    else:\\n        unique_words[word] += 1\\n    return unique_words',\n",
       "  \"list_of_words = ['dog', 'cat', 'donkey', 'cat', 'dog', 'dog', 'monekey']\\nprint(count_words(list_of_words))\",\n",
       "  'def count_words(words):\\n    unique_words = {}\\n    for word in words:\\n        if word in unique_words.keys:\\n            unique_words[word] = 1\\n            \\n        else:\\n            unique_words[word] += 1\\n    return unique_words',\n",
       "  \"list_of_words = ['dog', 'cat', 'donkey', 'cat', 'dog', 'dog', 'monekey']\\nprint(count_words(list_of_words))\",\n",
       "  'def count_words(words):\\n    unique_words = {}\\n    for word in words:\\n        if word in unique_words.keys():\\n            unique_words[word] = 1\\n\\n        else:\\n            unique_words[word] += 1\\n    return unique_words',\n",
       "  \"list_of_words = ['dog', 'cat', 'donkey', 'cat', 'dog', 'dog', 'monekey']\\nprint(count_words(list_of_words))\",\n",
       "  'def count_words(words):\\n    unique_words = {}\\n    for word in words:\\n        if word in unique_words.keys():\\n            unique_words[word] = 1\\n\\n        else:\\n            \\n            unique_words[word] = unique_words[word].value + 1\\n    return unique_words',\n",
       "  \"list_of_words = ['dog', 'cat', 'donkey', 'cat', 'dog', 'dog', 'monekey']\\nprint(count_words(list_of_words))\",\n",
       "  'def count_words(words):\\n    unique_words = {}\\n    for word in words:\\n        unique_words.update(word:count(x))\\n    return unique_words',\n",
       "  'def count_words(words):\\n    unique_words = {}\\n    for word in words:\\n        unique_words.update({word:words.count(word)})\\n    return unique_words',\n",
       "  \"list_of_words = ['dog', 'cat', 'donkey', 'cat', 'dog', 'dog', 'monekey']\\nprint(count_words(list_of_words))\",\n",
       "  'dir()',\n",
       "  'vars()'],\n",
       " 'Out': {14: ['In',\n",
       "   'Out',\n",
       "   '_',\n",
       "   '__',\n",
       "   '___',\n",
       "   '__builtin__',\n",
       "   '__builtins__',\n",
       "   '__doc__',\n",
       "   '__loader__',\n",
       "   '__name__',\n",
       "   '__package__',\n",
       "   '__spec__',\n",
       "   '__vsc_ipynb_file__',\n",
       "   '_dh',\n",
       "   '_i',\n",
       "   '_i1',\n",
       "   '_i10',\n",
       "   '_i11',\n",
       "   '_i12',\n",
       "   '_i13',\n",
       "   '_i14',\n",
       "   '_i2',\n",
       "   '_i3',\n",
       "   '_i4',\n",
       "   '_i5',\n",
       "   '_i6',\n",
       "   '_i7',\n",
       "   '_i8',\n",
       "   '_i9',\n",
       "   '_ih',\n",
       "   '_ii',\n",
       "   '_iii',\n",
       "   '_oh',\n",
       "   'count_words',\n",
       "   'exit',\n",
       "   'get_ipython',\n",
       "   'list_of_words',\n",
       "   'open',\n",
       "   'quit']},\n",
       " 'get_ipython': <bound method InteractiveShell.get_ipython of <ipykernel.zmqshell.ZMQInteractiveShell object at 0x7dbbd828ac20>>,\n",
       " 'exit': <IPython.core.autocall.ZMQExitAutocall at 0x7dbbd828b940>,\n",
       " 'quit': <IPython.core.autocall.ZMQExitAutocall at 0x7dbbd828b940>,\n",
       " 'open': <function io.open(file, mode='r', buffering=-1, encoding=None, errors=None, newline=None, closefd=True, opener=None)>,\n",
       " '_': ['In',\n",
       "  'Out',\n",
       "  '_',\n",
       "  '__',\n",
       "  '___',\n",
       "  '__builtin__',\n",
       "  '__builtins__',\n",
       "  '__doc__',\n",
       "  '__loader__',\n",
       "  '__name__',\n",
       "  '__package__',\n",
       "  '__spec__',\n",
       "  '__vsc_ipynb_file__',\n",
       "  '_dh',\n",
       "  '_i',\n",
       "  '_i1',\n",
       "  '_i10',\n",
       "  '_i11',\n",
       "  '_i12',\n",
       "  '_i13',\n",
       "  '_i14',\n",
       "  '_i2',\n",
       "  '_i3',\n",
       "  '_i4',\n",
       "  '_i5',\n",
       "  '_i6',\n",
       "  '_i7',\n",
       "  '_i8',\n",
       "  '_i9',\n",
       "  '_ih',\n",
       "  '_ii',\n",
       "  '_iii',\n",
       "  '_oh',\n",
       "  'count_words',\n",
       "  'exit',\n",
       "  'get_ipython',\n",
       "  'list_of_words',\n",
       "  'open',\n",
       "  'quit'],\n",
       " '__': '',\n",
       " '___': '',\n",
       " '__vsc_ipynb_file__': '/home/christiandzrz/Documents/learning/Chapter01_excersices.ipynb',\n",
       " '_i': 'dir()',\n",
       " '_ii': \"list_of_words = ['dog', 'cat', 'donkey', 'cat', 'dog', 'dog', 'monekey']\\nprint(count_words(list_of_words))\",\n",
       " '_iii': 'def count_words(words):\\n    unique_words = {}\\n    for word in words:\\n        unique_words.update({word:words.count(word)})\\n    return unique_words',\n",
       " '_i1': 'def count_words(words):\\n    unique_words = {}\\n    for word in words:\\n        unique_words[word] += 1',\n",
       " 'count_words': <function __main__.count_words(words)>,\n",
       " '_i2': \"list_of_words = ['dog', 'cat', 'donkey', 'cat', 'dog', 'dog', 'monekey']\\nprint(count_words(list_of_words))\",\n",
       " 'list_of_words': ['dog', 'cat', 'donkey', 'cat', 'dog', 'dog', 'monekey'],\n",
       " '_i3': 'def count_words(words):\\n    unique_words = {}\\n    for word in words:\\n        unique_words[word] = 1\\n    else:\\n        unique_words[word] += 1\\n    return unique_words',\n",
       " '_i4': \"list_of_words = ['dog', 'cat', 'donkey', 'cat', 'dog', 'dog', 'monekey']\\nprint(count_words(list_of_words))\",\n",
       " '_i5': 'def count_words(words):\\n    unique_words = {}\\n    for word in words:\\n        if word in unique_words.keys:\\n            unique_words[word] = 1\\n            \\n        else:\\n            unique_words[word] += 1\\n    return unique_words',\n",
       " '_i6': \"list_of_words = ['dog', 'cat', 'donkey', 'cat', 'dog', 'dog', 'monekey']\\nprint(count_words(list_of_words))\",\n",
       " '_i7': 'def count_words(words):\\n    unique_words = {}\\n    for word in words:\\n        if word in unique_words.keys():\\n            unique_words[word] = 1\\n\\n        else:\\n            unique_words[word] += 1\\n    return unique_words',\n",
       " '_i8': \"list_of_words = ['dog', 'cat', 'donkey', 'cat', 'dog', 'dog', 'monekey']\\nprint(count_words(list_of_words))\",\n",
       " '_i9': 'def count_words(words):\\n    unique_words = {}\\n    for word in words:\\n        if word in unique_words.keys():\\n            unique_words[word] = 1\\n\\n        else:\\n            \\n            unique_words[word] = unique_words[word].value + 1\\n    return unique_words',\n",
       " '_i10': \"list_of_words = ['dog', 'cat', 'donkey', 'cat', 'dog', 'dog', 'monekey']\\nprint(count_words(list_of_words))\",\n",
       " '_i11': 'def count_words(words):\\n    unique_words = {}\\n    for word in words:\\n        unique_words.update(word:count(x))\\n    return unique_words',\n",
       " '_i12': 'def count_words(words):\\n    unique_words = {}\\n    for word in words:\\n        unique_words.update({word:words.count(word)})\\n    return unique_words',\n",
       " '_i13': \"list_of_words = ['dog', 'cat', 'donkey', 'cat', 'dog', 'dog', 'monekey']\\nprint(count_words(list_of_words))\",\n",
       " '_i14': 'dir()',\n",
       " '_14': ['In',\n",
       "  'Out',\n",
       "  '_',\n",
       "  '__',\n",
       "  '___',\n",
       "  '__builtin__',\n",
       "  '__builtins__',\n",
       "  '__doc__',\n",
       "  '__loader__',\n",
       "  '__name__',\n",
       "  '__package__',\n",
       "  '__spec__',\n",
       "  '__vsc_ipynb_file__',\n",
       "  '_dh',\n",
       "  '_i',\n",
       "  '_i1',\n",
       "  '_i10',\n",
       "  '_i11',\n",
       "  '_i12',\n",
       "  '_i13',\n",
       "  '_i14',\n",
       "  '_i2',\n",
       "  '_i3',\n",
       "  '_i4',\n",
       "  '_i5',\n",
       "  '_i6',\n",
       "  '_i7',\n",
       "  '_i8',\n",
       "  '_i9',\n",
       "  '_ih',\n",
       "  '_ii',\n",
       "  '_iii',\n",
       "  '_oh',\n",
       "  'count_words',\n",
       "  'exit',\n",
       "  'get_ipython',\n",
       "  'list_of_words',\n",
       "  'open',\n",
       "  'quit'],\n",
       " '_i15': 'vars()'}"
      ]
     },
     "execution_count": 15,
     "metadata": {},
     "output_type": "execute_result"
    }
   ],
   "source": [
    "vars()"
   ]
  }
 ],
 "metadata": {
  "kernelspec": {
   "display_name": "Python 3",
   "language": "python",
   "name": "python3"
  },
  "language_info": {
   "codemirror_mode": {
    "name": "ipython",
    "version": 3
   },
   "file_extension": ".py",
   "mimetype": "text/x-python",
   "name": "python",
   "nbconvert_exporter": "python",
   "pygments_lexer": "ipython3",
   "version": "3.10.12"
  }
 },
 "nbformat": 4,
 "nbformat_minor": 2
}
