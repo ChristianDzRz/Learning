{
 "cells": [
  {
   "cell_type": "code",
   "execution_count": 42,
   "metadata": {},
   "outputs": [],
   "source": [
    "import re\n",
    "class Polynomial():\n",
    "    \"\"\"Class that takes a polynomial\"\"\"\n",
    "\n",
    "    def __init__(self, polynomial):\n",
    "        self._polynomial = re.findall(r'([+-]?[^+-]+)', polynomial)\n",
    "        print(self._polynomial)\n",
    "    \n",
    "    def derivate(self):\n",
    "        derivative = []\n",
    "        for i in range(len(self._polynomial)):\n",
    "            variable = self._polynomial[i].split(\"^\")\n",
    "            print(variable)\n",
    "            if len(variable)>1:\n",
    "                letter = re.sub('\\d','',variable[0])\n",
    "                scalar  = 1 if re.sub('\\D','',variable[0])== '' else float(re.sub('\\D','',variable[0]))\n",
    "                scalar_derivated = scalar*float(variable[1])\n",
    "                exponential = float(variable[1])-1\n",
    "                if exponential==0:\n",
    "                    derivative.append(f'{scalar_derivated}')\n",
    "                else:\n",
    "                    derivative.append(f'{scalar_derivated}{letter}^{exponential}')\n",
    "        return derivative\n"
   ]
  },
  {
   "cell_type": "code",
   "execution_count": 44,
   "metadata": {},
   "outputs": [
    {
     "name": "stdout",
     "output_type": "stream",
     "text": [
      "['y^3', '+2x^2', '-34']\n",
      "['y', '3']\n",
      "['+2x', '2']\n",
      "['-34']\n"
     ]
    },
    {
     "data": {
      "text/plain": [
       "['3.0y^2.0', '4.0+x^1.0']"
      ]
     },
     "execution_count": 44,
     "metadata": {},
     "output_type": "execute_result"
    }
   ],
   "source": [
    "test = Polynomial(\"y^3+2y^2-34\")\n",
    "test.derivate()"
   ]
  },
  {
   "cell_type": "code",
   "execution_count": null,
   "metadata": {},
   "outputs": [],
   "source": []
  }
 ],
 "metadata": {
  "kernelspec": {
   "display_name": "Python 3",
   "language": "python",
   "name": "python3"
  },
  "language_info": {
   "codemirror_mode": {
    "name": "ipython",
    "version": 3
   },
   "file_extension": ".py",
   "mimetype": "text/x-python",
   "name": "python",
   "nbconvert_exporter": "python",
   "pygments_lexer": "ipython3",
   "version": "3.10.12"
  }
 },
 "nbformat": 4,
 "nbformat_minor": 2
}
