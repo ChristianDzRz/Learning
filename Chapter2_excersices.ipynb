{
 "cells": [
  {
   "cell_type": "code",
   "execution_count": 24,
   "metadata": {},
   "outputs": [],
   "source": [
    "class Flower():\n",
    "    \"\"\" Class to describe a flower\"\"\"\n",
    "\n",
    "    def __init__(self, name:str , number_petals:int, price:float):\n",
    "        \"\"\"Initilize the flower class\"\"\"\n",
    "        self._name = name\n",
    "        self._number_petals = number_petals\n",
    "        self._price = price\n",
    "    @property\n",
    "    def name(self):\n",
    "        \"\"\"\"Get the name of the flower\"\"\"\n",
    "        return self._name\n",
    "    @property\n",
    "    def number_petals(self):\n",
    "        \"\"\" Get the number of petals\"\"\"\n",
    "        return self._number_petals\n",
    "    @property\n",
    "    def price(self):\n",
    "        \"\"\"Get the flower's price\"\"\"\n",
    "        return self._price\n",
    "    \n",
    "    @name.setter\n",
    "    def set_name(self, name):\n",
    "        \"\"\"Set the flower's name\"\"\"\n",
    "        if not isinstance(name, str):\n",
    "            raise TypeError('Name must be an string')\n",
    "        self._name = name\n",
    "\n",
    "    @number_petals.setter\n",
    "    def set_number_petals(self, number_petals):\n",
    "        \"\"\"Set the number of petals\"\"\"\n",
    "        if not isinstance(number_petals, int):\n",
    "            raise TypeError('A.a must be an int')\n",
    "        self._number_petals = number_petals\n",
    "\n",
    "    @price.setter\n",
    "    def set_price(self, price):\n",
    "        \"\"\"Set the price\"\"\"\n",
    "        self._price = price"
   ]
  },
  {
   "cell_type": "code",
   "execution_count": 14,
   "metadata": {},
   "outputs": [],
   "source": [
    "flower1 = Flower(\"rose\", 7, 3.4)"
   ]
  },
  {
   "cell_type": "code",
   "execution_count": 25,
   "metadata": {},
   "outputs": [],
   "source": [
    "flower1 = Flower(7,8, 2)"
   ]
  },
  {
   "cell_type": "code",
   "execution_count": 19,
   "metadata": {},
   "outputs": [],
   "source": [
    "flower1.set_name = 5"
   ]
  },
  {
   "cell_type": "code",
   "execution_count": null,
   "metadata": {},
   "outputs": [],
   "source": []
  }
 ],
 "metadata": {
  "kernelspec": {
   "display_name": "Python 3",
   "language": "python",
   "name": "python3"
  },
  "language_info": {
   "codemirror_mode": {
    "name": "ipython",
    "version": 3
   },
   "file_extension": ".py",
   "mimetype": "text/x-python",
   "name": "python",
   "nbconvert_exporter": "python",
   "pygments_lexer": "ipython3",
   "version": "3.10.12"
  }
 },
 "nbformat": 4,
 "nbformat_minor": 2
}
